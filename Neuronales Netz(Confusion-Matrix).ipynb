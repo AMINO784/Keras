{
 "cells": [
  {
   "cell_type": "code",
   "execution_count": 1,
   "id": "ed366dd6",
   "metadata": {},
   "outputs": [],
   "source": [
    "import gzip\n",
    "import numpy as np\n",
    "from tensorflow.keras.utils import to_categorical\n",
    "\n",
    "\n",
    "def open_images(filename):\n",
    "    with gzip.open(filename, \"rb\") as file:\n",
    "        data = file.read()\n",
    "        return np.frombuffer(data, dtype=np.uint8, offset=16)\\\n",
    "            .reshape(-1, 28, 28)\\\n",
    "            .astype(np.float32)\n",
    "\n",
    "\n",
    "def open_labels(filename):\n",
    "    with gzip.open(filename, \"rb\") as file:\n",
    "        data = file.read()\n",
    "        return np.frombuffer(data, dtype=np.uint8, offset=8)\n",
    "    \n",
    "X_train = open_images(\"data/fashion/train-images-idx3-ubyte.gz\")\n",
    "y_train = open_labels(\"data/fashion/train-labels-idx1-ubyte.gz\")\n",
    "\n",
    "#Y daten werden auf 1 oder null gesetz \n",
    "#y_train = y_train == 0 \n",
    "\n",
    "X_test = open_images(\"data/fashion/t10k-images-idx3-ubyte.gz\")\n",
    "y_test = open_labels(\"data/fashion/t10k-labels-idx1-ubyte.gz\")\n",
    "\n",
    "\n",
    "y_train = to_categorical(y_train)\n",
    "y_test = to_categorical(y_test)"
   ]
  },
  {
   "cell_type": "code",
   "execution_count": 2,
   "id": "bf8e5444",
   "metadata": {},
   "outputs": [],
   "source": [
    "from keras.models import Sequential\n",
    "from keras.layers import Dense"
   ]
  },
  {
   "cell_type": "code",
   "execution_count": 3,
   "id": "c30f8570",
   "metadata": {},
   "outputs": [],
   "source": [
    "model = Sequential()\n",
    "\n",
    "\n",
    "model.add(Dense(100, activation=\"sigmoid\", input_shape=(784,)))\n",
    "\n",
    "#10 = bestimmung der ausgänge\n",
    "model.add(Dense(10, activation=\"sigmoid\"))\n",
    "\n",
    "#loss = binary_crossentrop 1 / 0 & categorical_crossentropy mehree ausgänge (katoegorien vorhersagen)\n",
    "model.compile(optimizer=\"sgd\", loss=\"categorical_crossentropy\", metrics=[\"accuracy\"])"
   ]
  },
  {
   "cell_type": "code",
   "execution_count": 4,
   "id": "58b63e53",
   "metadata": {},
   "outputs": [
    {
     "name": "stdout",
     "output_type": "stream",
     "text": [
      "Epoch 1/10\n",
      "60/60 [==============================] - 1s 5ms/step - loss: 1.6640 - accuracy: 0.4970\n",
      "Epoch 2/10\n",
      "60/60 [==============================] - 0s 5ms/step - loss: 1.2027 - accuracy: 0.6828\n",
      "Epoch 3/10\n",
      "60/60 [==============================] - 0s 5ms/step - loss: 1.0490 - accuracy: 0.7169\n",
      "Epoch 4/10\n",
      "60/60 [==============================] - 0s 5ms/step - loss: 0.9524 - accuracy: 0.7344\n",
      "Epoch 5/10\n",
      "60/60 [==============================] - 0s 6ms/step - loss: 0.8846 - accuracy: 0.7490\n",
      "Epoch 6/10\n",
      "60/60 [==============================] - 0s 6ms/step - loss: 0.8323 - accuracy: 0.7597\n",
      "Epoch 7/10\n",
      "60/60 [==============================] - 0s 6ms/step - loss: 0.7906 - accuracy: 0.7674\n",
      "Epoch 8/10\n",
      "60/60 [==============================] - 0s 5ms/step - loss: 0.7570 - accuracy: 0.7757\n",
      "Epoch 9/10\n",
      "60/60 [==============================] - 0s 5ms/step - loss: 0.7279 - accuracy: 0.7812\n",
      "Epoch 10/10\n",
      "60/60 [==============================] - 0s 5ms/step - loss: 0.7033 - accuracy: 0.7876\n"
     ]
    },
    {
     "data": {
      "text/plain": [
       "<keras.callbacks.History at 0x25fa54c7ba8>"
      ]
     },
     "execution_count": 4,
     "metadata": {},
     "output_type": "execute_result"
    }
   ],
   "source": [
    "model.fit(\n",
    "    X_train.reshape(60000, 784),\n",
    "    y_train,\n",
    "    epochs=10,\n",
    "    batch_size=1000)"
   ]
  },
  {
   "cell_type": "code",
   "execution_count": 5,
   "id": "3004a49b",
   "metadata": {},
   "outputs": [
    {
     "name": "stdout",
     "output_type": "stream",
     "text": [
      "313/313 [==============================] - 0s 613us/step - loss: 0.7196 - accuracy: 0.7753\n"
     ]
    },
    {
     "data": {
      "text/plain": [
       "[0.719635546207428, 0.7753000259399414]"
      ]
     },
     "execution_count": 5,
     "metadata": {},
     "output_type": "execute_result"
    }
   ],
   "source": [
    "#genauigkeit in keras\n",
    "#test mit den test daten\n",
    "model.evaluate(X_test.reshape(-1, 784), y_test)"
   ]
  },
  {
   "cell_type": "code",
   "execution_count": 6,
   "id": "19733bc6",
   "metadata": {},
   "outputs": [],
   "source": [
    "# Vorher: \n",
    "#   ja  / nein\n",
    "#   10% / 90%\n",
    "# => NEIN weniger prozente da die genauigkeit anderst definiert wird.\n",
    "\n",
    "#Jetzt:\n",
    "#   T-Shirt / Hose / ...."
   ]
  },
  {
   "cell_type": "code",
   "execution_count": 7,
   "id": "4ede55e2",
   "metadata": {},
   "outputs": [
    {
     "data": {
      "text/plain": [
       "array([[0.35118157, 0.21522012, 0.2752686 , ..., 0.9121396 , 0.668026  ,\n",
       "        0.9483706 ],\n",
       "       [0.5899955 , 0.18533307, 0.9611976 , ..., 0.28020698, 0.4413847 ,\n",
       "        0.2356945 ],\n",
       "       [0.50708157, 0.98997706, 0.16955829, ..., 0.22797605, 0.30211294,\n",
       "        0.38016737],\n",
       "       ...,\n",
       "       [0.6594864 , 0.21119815, 0.26518375, ..., 0.11581826, 0.889063  ,\n",
       "        0.39010942],\n",
       "       [0.3808787 , 0.98505974, 0.21231493, ..., 0.2908606 , 0.15985194,\n",
       "        0.29141486],\n",
       "       [0.08253372, 0.21889386, 0.37864017, ..., 0.95841   , 0.772576  ,\n",
       "        0.676528  ]], dtype=float32)"
      ]
     },
     "execution_count": 7,
     "metadata": {},
     "output_type": "execute_result"
    }
   ],
   "source": [
    "#müssen in echte werte umgewnadelt werden.\n",
    "model.predict(X_test.reshape(-1, 784))"
   ]
  },
  {
   "cell_type": "code",
   "execution_count": 8,
   "id": "5b4a32d8",
   "metadata": {},
   "outputs": [
    {
     "name": "stdout",
     "output_type": "stream",
     "text": [
      "[0. 0. 1. 0. 0. 0. 0. 0. 0. 0.]\n"
     ]
    },
    {
     "data": {
      "image/png": "[encoded data removed]",
      "text/plain": [
       "<Figure size 432x288 with 1 Axes>"
      ]
     },
     "metadata": {
      "needs_background": "light"
     },
     "output_type": "display_data"
    }
   ],
   "source": [
    "%matplotlib inline \n",
    "\n",
    "import matplotlib.pyplot as plt\n",
    "\n",
    "print(y_test[1])\n",
    "\n",
    "plt.imshow(X_test[1], cmap=\"gray_r\")\n",
    "plt.show()"
   ]
  },
  {
   "cell_type": "code",
   "execution_count": 9,
   "id": "417e49fb",
   "metadata": {},
   "outputs": [
    {
     "data": {
      "text/plain": [
       "2"
      ]
     },
     "execution_count": 9,
     "metadata": {},
     "output_type": "execute_result"
    }
   ],
   "source": [
    "pred = model.predict(X_test.reshape(-1, 784))\n",
    "# suche im bild die größte warscheinlichket\n",
    "\n",
    "np.argmax(pred[1])"
   ]
  },
  {
   "cell_type": "code",
   "execution_count": 14,
   "id": "b6ddcea2",
   "metadata": {},
   "outputs": [
    {
     "data": {
      "text/plain": [
       "array([9, 2, 1, ..., 8, 1, 7], dtype=int64)"
      ]
     },
     "execution_count": 14,
     "metadata": {},
     "output_type": "execute_result"
    }
   ],
   "source": [
    "#erstellen der confusion matrix\n",
    "#axis = dimensionen 1 = (zeilenweise berechnen)\n",
    "\n",
    "np.argmax(pred, axis=1)\n"
   ]
  },
  {
   "cell_type": "code",
   "execution_count": 25,
   "id": "a2846c95",
   "metadata": {},
   "outputs": [],
   "source": [
    "import pandas as pd\n",
    "\n",
    "#daten müssen aufbereitet werden alle daten in eine variable gesetzt\n",
    "ytrue = pd.Series(np.argmax(y_test, axis= 1), name = \"actual\")\n",
    "ypred = pd.Series(np.argmax(pred, axis= 1), name = \"prediciton\")"
   ]
  },
  {
   "cell_type": "code",
   "execution_count": 26,
   "id": "fbbdf60a",
   "metadata": {},
   "outputs": [
    {
     "name": "stdout",
     "output_type": "stream",
     "text": [
      "0       9\n",
      "1       2\n",
      "2       1\n",
      "3       1\n",
      "4       6\n",
      "       ..\n",
      "9995    9\n",
      "9996    1\n",
      "9997    8\n",
      "9998    1\n",
      "9999    5\n",
      "Name: actual, Length: 10000, dtype: int64\n"
     ]
    }
   ],
   "source": [
    "print(ytrue)\n",
    "#funktion der confusion matrix bracuht eine pandas series"
   ]
  },
  {
   "cell_type": "code",
   "execution_count": 28,
   "id": "cb2ee7e1",
   "metadata": {},
   "outputs": [
    {
     "data": {
      "text/html": [
       "<div>\n",
       "<style scoped>\n",
       "    .dataframe tbody tr th:only-of-type {\n",
       "        vertical-align: middle;\n",
       "    }\n",
       "\n",
       "    .dataframe tbody tr th {\n",
       "        vertical-align: top;\n",
       "    }\n",
       "\n",
       "    .dataframe thead th {\n",
       "        text-align: right;\n",
       "    }\n",
       "</style>\n",
       "<table border=\"1\" class=\"dataframe\">\n",
       "  <thead>\n",
       "    <tr style=\"text-align: right;\">\n",
       "      <th>prediciton</th>\n",
       "      <th>0</th>\n",
       "      <th>1</th>\n",
       "      <th>2</th>\n",
       "      <th>3</th>\n",
       "      <th>4</th>\n",
       "      <th>5</th>\n",
       "      <th>6</th>\n",
       "      <th>7</th>\n",
       "      <th>8</th>\n",
       "      <th>9</th>\n",
       "    </tr>\n",
       "    <tr>\n",
       "      <th>actual</th>\n",
       "      <th></th>\n",
       "      <th></th>\n",
       "      <th></th>\n",
       "      <th></th>\n",
       "      <th></th>\n",
       "      <th></th>\n",
       "      <th></th>\n",
       "      <th></th>\n",
       "      <th></th>\n",
       "      <th></th>\n",
       "    </tr>\n",
       "  </thead>\n",
       "  <tbody>\n",
       "    <tr>\n",
       "      <th>0</th>\n",
       "      <td>788</td>\n",
       "      <td>8</td>\n",
       "      <td>16</td>\n",
       "      <td>88</td>\n",
       "      <td>14</td>\n",
       "      <td>2</td>\n",
       "      <td>61</td>\n",
       "      <td>0</td>\n",
       "      <td>22</td>\n",
       "      <td>1</td>\n",
       "    </tr>\n",
       "    <tr>\n",
       "      <th>1</th>\n",
       "      <td>8</td>\n",
       "      <td>922</td>\n",
       "      <td>11</td>\n",
       "      <td>44</td>\n",
       "      <td>11</td>\n",
       "      <td>0</td>\n",
       "      <td>2</td>\n",
       "      <td>0</td>\n",
       "      <td>2</td>\n",
       "      <td>0</td>\n",
       "    </tr>\n",
       "    <tr>\n",
       "      <th>2</th>\n",
       "      <td>23</td>\n",
       "      <td>1</td>\n",
       "      <td>626</td>\n",
       "      <td>11</td>\n",
       "      <td>232</td>\n",
       "      <td>0</td>\n",
       "      <td>88</td>\n",
       "      <td>0</td>\n",
       "      <td>18</td>\n",
       "      <td>1</td>\n",
       "    </tr>\n",
       "    <tr>\n",
       "      <th>3</th>\n",
       "      <td>37</td>\n",
       "      <td>16</td>\n",
       "      <td>6</td>\n",
       "      <td>840</td>\n",
       "      <td>52</td>\n",
       "      <td>0</td>\n",
       "      <td>44</td>\n",
       "      <td>0</td>\n",
       "      <td>5</td>\n",
       "      <td>0</td>\n",
       "    </tr>\n",
       "    <tr>\n",
       "      <th>4</th>\n",
       "      <td>2</td>\n",
       "      <td>5</td>\n",
       "      <td>141</td>\n",
       "      <td>49</td>\n",
       "      <td>723</td>\n",
       "      <td>0</td>\n",
       "      <td>71</td>\n",
       "      <td>0</td>\n",
       "      <td>8</td>\n",
       "      <td>1</td>\n",
       "    </tr>\n",
       "    <tr>\n",
       "      <th>5</th>\n",
       "      <td>2</td>\n",
       "      <td>1</td>\n",
       "      <td>0</td>\n",
       "      <td>3</td>\n",
       "      <td>0</td>\n",
       "      <td>766</td>\n",
       "      <td>3</td>\n",
       "      <td>128</td>\n",
       "      <td>15</td>\n",
       "      <td>82</td>\n",
       "    </tr>\n",
       "    <tr>\n",
       "      <th>6</th>\n",
       "      <td>225</td>\n",
       "      <td>4</td>\n",
       "      <td>145</td>\n",
       "      <td>54</td>\n",
       "      <td>182</td>\n",
       "      <td>2</td>\n",
       "      <td>353</td>\n",
       "      <td>0</td>\n",
       "      <td>35</td>\n",
       "      <td>0</td>\n",
       "    </tr>\n",
       "    <tr>\n",
       "      <th>7</th>\n",
       "      <td>0</td>\n",
       "      <td>0</td>\n",
       "      <td>0</td>\n",
       "      <td>0</td>\n",
       "      <td>0</td>\n",
       "      <td>38</td>\n",
       "      <td>0</td>\n",
       "      <td>879</td>\n",
       "      <td>2</td>\n",
       "      <td>81</td>\n",
       "    </tr>\n",
       "    <tr>\n",
       "      <th>8</th>\n",
       "      <td>1</td>\n",
       "      <td>3</td>\n",
       "      <td>19</td>\n",
       "      <td>10</td>\n",
       "      <td>4</td>\n",
       "      <td>12</td>\n",
       "      <td>16</td>\n",
       "      <td>8</td>\n",
       "      <td>925</td>\n",
       "      <td>2</td>\n",
       "    </tr>\n",
       "    <tr>\n",
       "      <th>9</th>\n",
       "      <td>0</td>\n",
       "      <td>0</td>\n",
       "      <td>0</td>\n",
       "      <td>1</td>\n",
       "      <td>0</td>\n",
       "      <td>14</td>\n",
       "      <td>0</td>\n",
       "      <td>51</td>\n",
       "      <td>3</td>\n",
       "      <td>931</td>\n",
       "    </tr>\n",
       "  </tbody>\n",
       "</table>\n",
       "</div>"
      ],
      "text/plain": [
       "prediciton    0    1    2    3    4    5    6    7    8    9\n",
       "actual                                                      \n",
       "0           788    8   16   88   14    2   61    0   22    1\n",
       "1             8  922   11   44   11    0    2    0    2    0\n",
       "2            23    1  626   11  232    0   88    0   18    1\n",
       "3            37   16    6  840   52    0   44    0    5    0\n",
       "4             2    5  141   49  723    0   71    0    8    1\n",
       "5             2    1    0    3    0  766    3  128   15   82\n",
       "6           225    4  145   54  182    2  353    0   35    0\n",
       "7             0    0    0    0    0   38    0  879    2   81\n",
       "8             1    3   19   10    4   12   16    8  925    2\n",
       "9             0    0    0    1    0   14    0   51    3  931"
      ]
     },
     "execution_count": 28,
     "metadata": {},
     "output_type": "execute_result"
    }
   ],
   "source": [
    "#confusion matrix\n",
    "pd.crosstab(ytrue, ypred)"
   ]
  },
  {
   "cell_type": "code",
   "execution_count": null,
   "id": "ac43d4e0",
   "metadata": {},
   "outputs": [],
   "source": []
  }
 ],
 "metadata": {
  "kernelspec": {
   "display_name": "Python 3",
   "language": "python",
   "name": "python3"
  },
  "language_info": {
   "codemirror_mode": {
    "name": "ipython",
    "version": 3
   },
   "file_extension": ".py",
   "mimetype": "text/x-python",
   "name": "python",
   "nbconvert_exporter": "python",
   "pygments_lexer": "ipython3",
   "version": "3.6.13"
  }
 },
 "nbformat": 4,
 "nbformat_minor": 5
}
