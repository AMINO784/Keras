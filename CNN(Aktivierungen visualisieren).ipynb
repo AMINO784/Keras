{
 "cells": [
  {
   "cell_type": "code",
   "execution_count": 1,
   "id": "ed366dd6",
   "metadata": {},
   "outputs": [],
   "source": [
    "import gzip\n",
    "import numpy as np\n",
    "from tensorflow.keras.utils import to_categorical\n",
    "\n",
    "\n",
    "def open_images(filename):\n",
    "    with gzip.open(filename, \"rb\") as file:\n",
    "        data = file.read()\n",
    "        return np.frombuffer(data, dtype=np.uint8, offset=16)\\\n",
    "            .reshape(-1, 28, 28)\\\n",
    "            .astype(np.float32)\n",
    "\n",
    "\n",
    "def open_labels(filename):\n",
    "    with gzip.open(filename, \"rb\") as file:\n",
    "        data = file.read()\n",
    "        return np.frombuffer(data, dtype=np.uint8, offset=8)\n",
    "    \n",
    "X_train = open_images(\"data/fashion/train-images-idx3-ubyte.gz\")\n",
    "y_train = open_labels(\"data/fashion/train-labels-idx1-ubyte.gz\")\n",
    "\n",
    "#Y daten werden auf 1 oder null gesetz \n",
    "#y_train = y_train == 0 \n",
    "\n",
    "X_test = open_images(\"data/fashion/t10k-images-idx3-ubyte.gz\")\n",
    "y_test = open_labels(\"data/fashion/t10k-labels-idx1-ubyte.gz\")\n",
    "\n",
    "\n",
    "y_train = to_categorical(y_train)\n",
    "y_test = to_categorical(y_test)"
   ]
  },
  {
   "cell_type": "code",
   "execution_count": 2,
   "id": "bf8e5444",
   "metadata": {},
   "outputs": [],
   "source": [
    "from keras.models import Sequential\n",
    "from keras.layers import Dense, Conv2D, Flatten"
   ]
  },
  {
   "cell_type": "code",
   "execution_count": 21,
   "id": "c30f8570",
   "metadata": {},
   "outputs": [
    {
     "name": "stdout",
     "output_type": "stream",
     "text": [
      "Epoch 1/10\n",
      "60/60 [==============================] - 5s 77ms/step - loss: 15.6933 - accuracy: 0.7003\n",
      "Epoch 2/10\n",
      "60/60 [==============================] - 4s 75ms/step - loss: 0.8934 - accuracy: 0.8400\n",
      "Epoch 3/10\n",
      "60/60 [==============================] - 4s 74ms/step - loss: 0.3762 - accuracy: 0.8766\n",
      "Epoch 4/10\n",
      "60/60 [==============================] - 5s 77ms/step - loss: 0.2710 - accuracy: 0.9025\n",
      "Epoch 5/10\n",
      "60/60 [==============================] - 5s 78ms/step - loss: 0.2158 - accuracy: 0.9212\n",
      "Epoch 6/10\n",
      "60/60 [==============================] - 4s 72ms/step - loss: 0.1853 - accuracy: 0.9314\n",
      "Epoch 7/10\n",
      "60/60 [==============================] - 4s 71ms/step - loss: 0.1631 - accuracy: 0.9397\n",
      "Epoch 8/10\n",
      "60/60 [==============================] - 4s 70ms/step - loss: 0.1461 - accuracy: 0.9470\n",
      "Epoch 9/10\n",
      "60/60 [==============================] - 4s 70ms/step - loss: 0.1297 - accuracy: 0.9520\n",
      "Epoch 10/10\n",
      "60/60 [==============================] - 4s 69ms/step - loss: 0.1187 - accuracy: 0.9557\n"
     ]
    },
    {
     "data": {
      "text/plain": [
       "<keras.callbacks.History at 0x21493864b70>"
      ]
     },
     "execution_count": 21,
     "metadata": {},
     "output_type": "execute_result"
    }
   ],
   "source": [
    "model = Sequential()\n",
    "\n",
    "#kernal_size beschreibt wie hoch oder breit der filter ist\n",
    "model.add(Conv2D(25, kernel_size=(3, 3),activation=\"relu\", input_shape=(28, 28, 1)))\n",
    "\n",
    "#macht alle ausgangs ebenden zu einer sonst 10 ebenden aus Conv2D\n",
    "model.add(Flatten())\n",
    "\n",
    "#10 = bestimmung der ausgänge\n",
    "model.add(Dense(10, activation=\"softmax\"))\n",
    "\n",
    "#loss = binary_crossentrop 1 / 0 & categorical_crossentropy mehree ausgänge (katoegorien vorhersagen)\n",
    "model.compile(optimizer=\"rmsprop\", loss=\"categorical_crossentropy\", metrics=[\"accuracy\"])\n",
    "\n",
    "model.fit(\n",
    "    X_train.reshape(60000, 28, 28, 1), \n",
    "    y_train,\n",
    "    epochs=10,\n",
    "    batch_size=1000)"
   ]
  },
  {
   "cell_type": "code",
   "execution_count": 7,
   "id": "3943c0ef",
   "metadata": {},
   "outputs": [
    {
     "data": {
      "text/plain": [
       "<tf.Variable 'conv2d/kernel:0' shape=(3, 3, 1, 25) dtype=float32, numpy=\n",
       "array([[[[ 0.03096189,  0.05432285,  0.03260697, -0.24757646,\n",
       "          -0.14641069, -0.07312331,  0.00477066, -0.37131944,\n",
       "          -0.16360958,  0.07329287, -0.04167334, -0.0584667 ,\n",
       "          -0.05832481, -0.1604969 , -0.08559445, -0.0059605 ,\n",
       "          -0.14709274,  0.12106948,  0.11811028, -0.14204842,\n",
       "          -0.18256095,  0.08617292,  0.03613443, -0.00144834,\n",
       "          -0.14894913]],\n",
       "\n",
       "        [[ 0.10910159,  0.04175174, -0.09122717, -0.37241113,\n",
       "           0.20908149, -0.20894648, -0.084966  ,  0.07207508,\n",
       "           0.05646465, -0.13281748, -0.5466703 ,  0.11696968,\n",
       "           0.05363927, -0.00334702, -0.22657499, -0.07179595,\n",
       "           0.22223566, -0.25151163, -0.08806781,  0.11725967,\n",
       "           0.12454311,  0.04649547, -0.07659723,  0.14304319,\n",
       "          -0.00860855]],\n",
       "\n",
       "        [[-0.142398  , -0.07661062, -0.10317606,  0.08173028,\n",
       "          -0.06593832,  0.05256721,  0.08348972, -0.03864942,\n",
       "          -0.14213249,  0.06114715, -0.45087147, -0.12991898,\n",
       "          -0.17877312, -0.13171886,  0.09435738,  0.08366153,\n",
       "          -0.14177522, -0.1209301 , -0.13744716,  0.02855093,\n",
       "          -0.09562748, -0.10143127,  0.09594622, -0.14434697,\n",
       "           0.10114063]]],\n",
       "\n",
       "\n",
       "       [[[-0.14456354, -0.12650238, -0.00406931,  0.08388199,\n",
       "          -0.05841105, -0.18311985, -0.06724666, -0.0207292 ,\n",
       "          -0.13762188, -0.00754247,  0.02227221,  0.060449  ,\n",
       "           0.03597159,  0.1692594 ,  0.12445632, -0.1710856 ,\n",
       "          -0.01595066, -0.13435444,  0.03530385,  0.12561578,\n",
       "           0.1421355 , -0.05926635,  0.01659854, -0.30910632,\n",
       "          -0.01348022]],\n",
       "\n",
       "        [[-0.05857227, -0.13632804,  0.18511912, -0.02448861,\n",
       "          -0.13150115, -0.11276414, -0.22697327,  0.01415342,\n",
       "           0.17138435,  0.13437769, -0.1889788 , -0.12360804,\n",
       "          -0.0969287 ,  0.13856332,  0.04354814,  0.19768693,\n",
       "          -0.09904215, -0.10878901, -0.0260608 , -0.07773696,\n",
       "           0.03827291, -0.07731999, -0.1927172 ,  0.09063811,\n",
       "          -0.08442637]],\n",
       "\n",
       "        [[ 0.1473765 ,  0.0010238 , -0.05595748, -0.13322334,\n",
       "          -0.12177634,  0.08822255,  0.06513865,  0.11801931,\n",
       "          -0.10555351, -0.19164465, -0.720904  ,  0.08888305,\n",
       "          -0.330123  , -0.12103496, -0.13231635, -0.09295967,\n",
       "           0.11471365, -0.07361686,  0.13330574, -0.3030299 ,\n",
       "          -0.01712723,  0.05584844, -0.15643065, -0.01151099,\n",
       "          -0.02830655]]],\n",
       "\n",
       "\n",
       "       [[[ 0.04874306, -0.04520238, -0.04974421, -0.13620828,\n",
       "           0.00989206,  0.06624975,  0.05458407,  0.03318893,\n",
       "           0.10178095, -0.0501665 ,  0.00594066,  0.00314281,\n",
       "           0.02409107, -0.03053736, -0.03469322, -0.080139  ,\n",
       "           0.00199974,  0.03603088, -0.14239796, -0.07789754,\n",
       "          -0.07727922, -0.04216546, -0.13061239,  0.01628956,\n",
       "          -0.16878188]],\n",
       "\n",
       "        [[-0.15785953,  0.14144842, -0.11405613,  0.14066702,\n",
       "          -0.04728363,  0.02209861, -0.43174395, -0.05353952,\n",
       "          -0.05522895, -0.2677507 ,  0.05069286, -0.06351363,\n",
       "          -0.62594473, -0.25729755, -0.10082437,  0.0819361 ,\n",
       "          -0.01954114,  0.06475686, -0.00577079,  0.04846423,\n",
       "           0.00299834, -0.04794594, -0.14567374, -0.12766702,\n",
       "           0.16850628]],\n",
       "\n",
       "        [[-0.02117338,  0.00205991,  0.06301697, -0.00626601,\n",
       "           0.06513669, -0.11946033, -0.11819541, -0.10799906,\n",
       "           0.01241515,  0.03922846, -0.09327738,  0.02996693,\n",
       "           0.11104275, -0.03343616,  0.03939313, -0.19684996,\n",
       "          -0.10876612, -0.02447413, -0.06985505, -0.04450885,\n",
       "          -0.0760817 , -0.03175388, -0.05875252, -0.00266638,\n",
       "          -0.12554473]]]], dtype=float32)>"
      ]
     },
     "execution_count": 7,
     "metadata": {},
     "output_type": "execute_result"
    }
   ],
   "source": [
    "model.layers[0].weights[0]"
   ]
  },
  {
   "cell_type": "code",
   "execution_count": 8,
   "id": "dc6eb4c2",
   "metadata": {},
   "outputs": [],
   "source": [
    "#gewichte ausgeben \n",
    "import keras.backend as K"
   ]
  },
  {
   "cell_type": "code",
   "execution_count": 10,
   "id": "93a05bb7",
   "metadata": {},
   "outputs": [
    {
     "name": "stdout",
     "output_type": "stream",
     "text": [
      "[[[[ 0.03096189  0.05432285  0.03260697 -0.24757646 -0.14641069\n",
      "    -0.07312331  0.00477066 -0.37131944 -0.16360958  0.07329287\n",
      "    -0.04167334 -0.0584667  -0.05832481 -0.1604969  -0.08559445\n",
      "    -0.0059605  -0.14709274  0.12106948  0.11811028 -0.14204842\n",
      "    -0.18256095  0.08617292  0.03613443 -0.00144834 -0.14894913]]\n",
      "\n",
      "  [[ 0.10910159  0.04175174 -0.09122717 -0.37241113  0.20908149\n",
      "    -0.20894648 -0.084966    0.07207508  0.05646465 -0.13281748\n",
      "    -0.5466703   0.11696968  0.05363927 -0.00334702 -0.22657499\n",
      "    -0.07179595  0.22223566 -0.25151163 -0.08806781  0.11725967\n",
      "     0.12454311  0.04649547 -0.07659723  0.14304319 -0.00860855]]\n",
      "\n",
      "  [[-0.142398   -0.07661062 -0.10317606  0.08173028 -0.06593832\n",
      "     0.05256721  0.08348972 -0.03864942 -0.14213249  0.06114715\n",
      "    -0.45087147 -0.12991898 -0.17877312 -0.13171886  0.09435738\n",
      "     0.08366153 -0.14177522 -0.1209301  -0.13744716  0.02855093\n",
      "    -0.09562748 -0.10143127  0.09594622 -0.14434697  0.10114063]]]\n",
      "\n",
      "\n",
      " [[[-0.14456354 -0.12650238 -0.00406931  0.08388199 -0.05841105\n",
      "    -0.18311985 -0.06724666 -0.0207292  -0.13762188 -0.00754247\n",
      "     0.02227221  0.060449    0.03597159  0.1692594   0.12445632\n",
      "    -0.1710856  -0.01595066 -0.13435444  0.03530385  0.12561578\n",
      "     0.1421355  -0.05926635  0.01659854 -0.30910632 -0.01348022]]\n",
      "\n",
      "  [[-0.05857227 -0.13632804  0.18511912 -0.02448861 -0.13150115\n",
      "    -0.11276414 -0.22697327  0.01415342  0.17138435  0.13437769\n",
      "    -0.1889788  -0.12360804 -0.0969287   0.13856332  0.04354814\n",
      "     0.19768693 -0.09904215 -0.10878901 -0.0260608  -0.07773696\n",
      "     0.03827291 -0.07731999 -0.1927172   0.09063811 -0.08442637]]\n",
      "\n",
      "  [[ 0.1473765   0.0010238  -0.05595748 -0.13322334 -0.12177634\n",
      "     0.08822255  0.06513865  0.11801931 -0.10555351 -0.19164465\n",
      "    -0.720904    0.08888305 -0.330123   -0.12103496 -0.13231635\n",
      "    -0.09295967  0.11471365 -0.07361686  0.13330574 -0.3030299\n",
      "    -0.01712723  0.05584844 -0.15643065 -0.01151099 -0.02830655]]]\n",
      "\n",
      "\n",
      " [[[ 0.04874306 -0.04520238 -0.04974421 -0.13620828  0.00989206\n",
      "     0.06624975  0.05458407  0.03318893  0.10178095 -0.0501665\n",
      "     0.00594066  0.00314281  0.02409107 -0.03053736 -0.03469322\n",
      "    -0.080139    0.00199974  0.03603088 -0.14239796 -0.07789754\n",
      "    -0.07727922 -0.04216546 -0.13061239  0.01628956 -0.16878188]]\n",
      "\n",
      "  [[-0.15785953  0.14144842 -0.11405613  0.14066702 -0.04728363\n",
      "     0.02209861 -0.43174395 -0.05353952 -0.05522895 -0.2677507\n",
      "     0.05069286 -0.06351363 -0.62594473 -0.25729755 -0.10082437\n",
      "     0.0819361  -0.01954114  0.06475686 -0.00577079  0.04846423\n",
      "     0.00299834 -0.04794594 -0.14567374 -0.12766702  0.16850628]]\n",
      "\n",
      "  [[-0.02117338  0.00205991  0.06301697 -0.00626601  0.06513669\n",
      "    -0.11946033 -0.11819541 -0.10799906  0.01241515  0.03922846\n",
      "    -0.09327738  0.02996693  0.11104275 -0.03343616  0.03939313\n",
      "    -0.19684996 -0.10876612 -0.02447413 -0.06985505 -0.04450885\n",
      "    -0.0760817  -0.03175388 -0.05875252 -0.00266638 -0.12554473]]]]\n"
     ]
    }
   ],
   "source": [
    "data = K.eval(model.layers[0].weights[0])\n",
    "print(data)"
   ]
  },
  {
   "cell_type": "code",
   "execution_count": 13,
   "id": "223c71d5",
   "metadata": {},
   "outputs": [
    {
     "data": {
      "text/plain": [
       "array([[ 0.03096189,  0.10910159, -0.142398  ],\n",
       "       [-0.14456354, -0.05857227,  0.1473765 ],\n",
       "       [ 0.04874306, -0.15785953, -0.02117338]], dtype=float32)"
      ]
     },
     "execution_count": 13,
     "metadata": {},
     "output_type": "execute_result"
    }
   ],
   "source": [
    "data[:, :, :, 0].reshape(3, 3)"
   ]
  },
  {
   "cell_type": "code",
   "execution_count": 20,
   "id": "ac98d5e8",
   "metadata": {},
   "outputs": [
    {
     "data": {
      "image/png": "[encoded data removed]",
      "text/plain": [
       "<Figure size 432x288 with 1 Axes>"
      ]
     },
     "metadata": {
      "needs_background": "light"
     },
     "output_type": "display_data"
    }
   ],
   "source": [
    "%matplotlib inline\n",
    "\n",
    "import matplotlib.pyplot as plt\n",
    "\n",
    "plt.imshow(data[:,:,:,0].reshape(3,3))\n",
    "plt.show()"
   ]
  },
  {
   "cell_type": "code",
   "execution_count": 22,
   "id": "6d355de0",
   "metadata": {},
   "outputs": [],
   "source": [
    "#neues model\n",
    "model2 = Sequential()\n",
    "\n",
    "\n",
    "#gewichte manuell inizialisieren\n",
    "model2.add(Conv2D(25, \n",
    "                  kernel_size=(3, 3),\n",
    "                  activation=\"relu\", \n",
    "                  input_shape=(28, 28, 1), \n",
    "                  weights=model.layers[0].get_weights()))"
   ]
  },
  {
   "cell_type": "code",
   "execution_count": 24,
   "id": "a2686dc8",
   "metadata": {},
   "outputs": [
    {
     "data": {
      "text/plain": [
       "<matplotlib.image.AxesImage at 0x214939cd3c8>"
      ]
     },
     "execution_count": 24,
     "metadata": {},
     "output_type": "execute_result"
    },
    {
     "data": {
      "image/png": "[encoded data removed]",
      "text/plain": [
       "<Figure size 432x288 with 1 Axes>"
      ]
     },
     "metadata": {
      "needs_background": "light"
     },
     "output_type": "display_data"
    }
   ],
   "source": [
    "%matplotlib inline\n",
    "\n",
    "import matplotlib.pyplot as plt\n",
    "\n",
    "plt.imshow(X_test[0], cmap=\"gray_r\")"
   ]
  },
  {
   "cell_type": "code",
   "execution_count": 44,
   "id": "258d1076",
   "metadata": {},
   "outputs": [],
   "source": [
    "res =model2.predict(X_train[0].reshape(1, 28, 28, 1))"
   ]
  },
  {
   "cell_type": "code",
   "execution_count": 45,
   "id": "02969f44",
   "metadata": {},
   "outputs": [
    {
     "data": {
      "text/plain": [
       "(1, 26, 26, 25)"
      ]
     },
     "execution_count": 45,
     "metadata": {},
     "output_type": "execute_result"
    }
   ],
   "source": [
    "res.shape"
   ]
  },
  {
   "cell_type": "code",
   "execution_count": 46,
   "id": "733a133a",
   "metadata": {},
   "outputs": [
    {
     "data": {
      "text/plain": [
       "(26, 26, 25)"
      ]
     },
     "execution_count": 46,
     "metadata": {},
     "output_type": "execute_result"
    }
   ],
   "source": [
    "res[0].shape"
   ]
  },
  {
   "cell_type": "code",
   "execution_count": 48,
   "id": "2090138e",
   "metadata": {},
   "outputs": [
    {
     "data": {
      "image/png": "[encoded data removed]",
      "text/plain": [
       "<Figure size 432x288 with 1 Axes>"
      ]
     },
     "metadata": {
      "needs_background": "light"
     },
     "output_type": "display_data"
    }
   ],
   "source": [
    "plt.imshow(res[0][:, :, 0])\n",
    "plt.show()"
   ]
  },
  {
   "cell_type": "code",
   "execution_count": null,
   "id": "eed54d5b",
   "metadata": {},
   "outputs": [],
   "source": []
  },
  {
   "cell_type": "code",
   "execution_count": null,
   "id": "f5d8fa07",
   "metadata": {},
   "outputs": [],
   "source": []
  }
 ],
 "metadata": {
  "kernelspec": {
   "display_name": "Python 3",
   "language": "python",
   "name": "python3"
  },
  "language_info": {
   "codemirror_mode": {
    "name": "ipython",
    "version": 3
   },
   "file_extension": ".py",
   "mimetype": "text/x-python",
   "name": "python",
   "nbconvert_exporter": "python",
   "pygments_lexer": "ipython3",
   "version": "3.6.13"
  }
 },
 "nbformat": 4,
 "nbformat_minor": 5
}
